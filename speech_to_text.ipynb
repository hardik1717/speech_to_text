{
 "cells": [
  {
   "cell_type": "code",
   "execution_count": null,
   "id": "b03db3b2",
   "metadata": {},
   "outputs": [],
   "source": [
    "import speech_recognition as sr\n",
    "import sounddevice as sd\n",
    "import wave\n",
    "import pyttsx3"
   ]
  },
  {
   "cell_type": "code",
   "execution_count": null,
   "id": "49bdf16b",
   "metadata": {},
   "outputs": [],
   "source": [
    "def SpeakText(command):\n",
    "    engine = pyttsx3.init()\n",
    "    engine.say(command)\n",
    "    engine.runAndWait()"
   ]
  },
  {
   "cell_type": "code",
   "execution_count": null,
   "id": "2028d97d",
   "metadata": {},
   "outputs": [],
   "source": [
    "def record_and_save_audio(filename, duration=5, sample_rate=44100):\n",
    "    # Record audio\n",
    "    recording = sd.rec(int(duration * sample_rate), samplerate=sample_rate, channels=2)\n",
    "    sd.wait()\n",
    "    # Save the recorded audio\n",
    "    with wave.open(filename, 'wb') as wf:\n",
    "        wf.setnchannels(2)  # Stereo audio\n",
    "        wf.setsampwidth(2)  # 16-bit audio\n",
    "        wf.setframerate(sample_rate)\n",
    "        wf.writeframes(recording.tobytes())"
   ]
  },
  {
   "cell_type": "code",
   "execution_count": null,
   "id": "de73492c",
   "metadata": {},
   "outputs": [],
   "source": [
    "# google speech api\n",
    "r = sr.Recognizer()"
   ]
  },
  {
   "cell_type": "code",
   "execution_count": null,
   "id": "b5aafb8d",
   "metadata": {},
   "outputs": [],
   "source": [
    "while True:\n",
    "    try:\n",
    "        with sr.Microphone() as source2:\n",
    "            r.adjust_for_ambient_noise(source2, duration=0.2)\n",
    "            audio2 = r.listen(source2)\n",
    "            MyText = r.recognize_google(audio2)\n",
    "            MyText = MyText.lower()\n",
    "            print(\"you say \", MyText)\n",
    "            SpeakText(MyText)\n",
    "\n",
    "            \n",
    "            output_filename = \"recorded_audio.wav\"\n",
    "            record_and_save_audio(output_filename)\n",
    "            print(f\"Audio recorded and saved as {output_filename}\")\n",
    "\n",
    "    except sr.RequestError as e:\n",
    "        print(\"Could not request results; {0}\".format(e))\n",
    "        break\n",
    "\n",
    "    except sr.UnknownValueError:\n",
    "        print(\"unknown error occurred\")\n",
    "        break"
   ]
  },
  {
   "cell_type": "code",
   "execution_count": null,
   "id": "7a28a031",
   "metadata": {},
   "outputs": [],
   "source": []
  }
 ],
 "metadata": {
  "kernelspec": {
   "display_name": "Python 3 (ipykernel)",
   "language": "python",
   "name": "python3"
  },
  "language_info": {
   "codemirror_mode": {
    "name": "ipython",
    "version": 3
   },
   "file_extension": ".py",
   "mimetype": "text/x-python",
   "name": "python",
   "nbconvert_exporter": "python",
   "pygments_lexer": "ipython3",
   "version": "3.9.12"
  }
 },
 "nbformat": 4,
 "nbformat_minor": 5
}
